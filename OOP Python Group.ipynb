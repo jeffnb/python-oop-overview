{
 "cells": [
  {
   "cell_type": "markdown",
   "metadata": {},
   "source": [
    "#Object Oriented Programming"
   ]
  },
  {
   "cell_type": "markdown",
   "metadata": {},
   "source": [
    "##Why do it?"
   ]
  },
  {
   "cell_type": "markdown",
   "metadata": {},
   "source": [
    "1. Code Reuse\n",
    "2. Easier to maintain\n",
    "3. Encapsulation"
   ]
  },
  {
   "cell_type": "markdown",
   "metadata": {},
   "source": [
    "## Basics\n",
    "Basically, everything in Python is an object"
   ]
  },
  {
   "cell_type": "code",
   "execution_count": 1,
   "metadata": {
    "collapsed": false
   },
   "outputs": [
    {
     "data": {
      "text/plain": [
       "list"
      ]
     },
     "execution_count": 1,
     "metadata": {},
     "output_type": "execute_result"
    }
   ],
   "source": [
    "my_super_fun_list = [\"a\", \"b\", \"c\", \"d\"]\n",
    "type(my_super_fun_list)"
   ]
  },
  {
   "cell_type": "code",
   "execution_count": 2,
   "metadata": {
    "collapsed": false
   },
   "outputs": [
    {
     "data": {
      "text/plain": [
       "['d', 'c', 'b', 'a']"
      ]
     },
     "execution_count": 2,
     "metadata": {},
     "output_type": "execute_result"
    }
   ],
   "source": [
    "my_super_fun_list.sort(reverse=True)\n",
    "my_super_fun_list"
   ]
  },
  {
   "cell_type": "markdown",
   "metadata": {},
   "source": [
    "##My First Object"
   ]
  },
  {
   "cell_type": "code",
   "execution_count": 3,
   "metadata": {
    "collapsed": true
   },
   "outputs": [],
   "source": [
    "class Automobile:  #This is a class.  It is like a blueprint for a house\n",
    "    make = \"\" #Hi I am an attribute\n",
    "    model = \"\" #Hi I am also an attribute\n",
    "    \n",
    "    def show_make_and_model(self): #I am totally a method.  Like a function but more OOP\n",
    "        print(\"Make: {} Model:{}\".format(self.make, self.model))"
   ]
  },
  {
   "cell_type": "markdown",
   "metadata": {},
   "source": [
    "Lets create an object."
   ]
  },
  {
   "cell_type": "code",
   "execution_count": 4,
   "metadata": {
    "collapsed": false
   },
   "outputs": [
    {
     "data": {
      "text/plain": [
       "<__main__.Automobile at 0x1032bf2b0>"
      ]
     },
     "execution_count": 4,
     "metadata": {},
     "output_type": "execute_result"
    }
   ],
   "source": [
    "my_car = Automobile()\n",
    "my_car #my_car is an object which was built from the class automobile"
   ]
  },
  {
   "cell_type": "markdown",
   "metadata": {},
   "source": [
    "### Playing with the object"
   ]
  },
  {
   "cell_type": "code",
   "execution_count": 5,
   "metadata": {
    "collapsed": false
   },
   "outputs": [
    {
     "name": "stdout",
     "output_type": "stream",
     "text": [
      "\n",
      "\n",
      "Honda\n",
      "Civic\n"
     ]
    }
   ],
   "source": [
    "print(my_car.make)\n",
    "print(my_car.model)\n",
    "\n",
    "my_car.make = \"Honda\"\n",
    "my_car.model = \"Civic\"\n",
    "print(my_car.make)\n",
    "print(my_car.model)"
   ]
  },
  {
   "cell_type": "code",
   "execution_count": 6,
   "metadata": {
    "collapsed": false
   },
   "outputs": [
    {
     "name": "stdout",
     "output_type": "stream",
     "text": [
      "Make: Honda Model:Civic\n"
     ]
    }
   ],
   "source": [
    "my_car.show_make_and_model()"
   ]
  },
  {
   "cell_type": "markdown",
   "metadata": {},
   "source": [
    "###Seems kind of inefficient since all cars have a make and model\n",
    "This is where init comes in.  Init is a method that is called very early on when an object is created so it is an awesome place to setup the object."
   ]
  },
  {
   "cell_type": "code",
   "execution_count": 7,
   "metadata": {
    "collapsed": true
   },
   "outputs": [],
   "source": [
    "class Automobile:\n",
    "    make = \"\" #Hi I am an attribute\n",
    "    model = \"\" #Hi I am also an attribute\n",
    "    \n",
    "    def __init__(self, make, model):\n",
    "        self.make = make #We have to call self. to refer to the object's version of the variable\n",
    "        self.model = model\n",
    "    \n",
    "    def show_make_and_model(self): #I am totally a method.  Like a function but more OOP\n",
    "        print(\"Make: {} Model:{}\".format(self.make, self.model))"
   ]
  },
  {
   "cell_type": "code",
   "execution_count": 10,
   "metadata": {
    "collapsed": false
   },
   "outputs": [
    {
     "name": "stdout",
     "output_type": "stream",
     "text": [
      "Make: Toyota Model:Tundra\n"
     ]
    }
   ],
   "source": [
    "my_specific_car = Automobile(\"Toyota\",\"Tundra\")\n",
    "my_specific_car.show_make_and_model()"
   ]
  },
  {
   "cell_type": "markdown",
   "metadata": {},
   "source": [
    "#Inheretance: Power unleashed\n",
    "Objects are great to keep code nice and contained logically.  However, what if we want types of automobiles."
   ]
  },
  {
   "cell_type": "code",
   "execution_count": 11,
   "metadata": {
    "collapsed": true
   },
   "outputs": [],
   "source": [
    "class Automobile(object):\n",
    "    make = \"\" #Hi I am an attribute\n",
    "    model = \"\" #Hi I am also an attribute\n",
    "    \n",
    "    def __init__(self, make, model):\n",
    "        self.make = make #We have to call self. to refer to the object's version of the variable\n",
    "        self.model = model\n",
    "    \n",
    "    def show_make_and_model(self): #I am totally a method.  Like a function but more OOP\n",
    "        print(\"Make: {} Model:{}\".format(self.make, self.model))"
   ]
  },
  {
   "cell_type": "markdown",
   "metadata": {},
   "source": [
    "###Let's create a subclass of Automobile\n",
    "Subclasses inheret all the stuff from their super class.  This means they get all attributes and methods from their parents."
   ]
  },
  {
   "cell_type": "code",
   "execution_count": 12,
   "metadata": {
    "collapsed": true
   },
   "outputs": [],
   "source": [
    "class Truck(Automobile):\n",
    "    def tow(self):\n",
    "        print(\"Hook up and lets go\")"
   ]
  },
  {
   "cell_type": "markdown",
   "metadata": {},
   "source": [
    "Now to create a truck we still have to give it make and model.  Truck has no init method so it is using Automobile's init method which asks for a make and model."
   ]
  },
  {
   "cell_type": "code",
   "execution_count": 14,
   "metadata": {
    "collapsed": false
   },
   "outputs": [
    {
     "data": {
      "text/plain": [
       "<__main__.Truck at 0x10388f518>"
      ]
     },
     "execution_count": 14,
     "metadata": {},
     "output_type": "execute_result"
    }
   ],
   "source": [
    "truck = Truck(\"Toyota\", \"Titan\")\n",
    "truck"
   ]
  },
  {
   "cell_type": "markdown",
   "metadata": {},
   "source": [
    "We get all methods from Automobile"
   ]
  },
  {
   "cell_type": "code",
   "execution_count": 15,
   "metadata": {
    "collapsed": false
   },
   "outputs": [
    {
     "name": "stdout",
     "output_type": "stream",
     "text": [
      "Make: Toyota Model:Titan\n"
     ]
    }
   ],
   "source": [
    "truck.show_make_and_model()"
   ]
  },
  {
   "cell_type": "markdown",
   "metadata": {},
   "source": [
    "But we get to make our own like tow()"
   ]
  },
  {
   "cell_type": "code",
   "execution_count": 16,
   "metadata": {
    "collapsed": false
   },
   "outputs": [
    {
     "name": "stdout",
     "output_type": "stream",
     "text": [
      "Hook up and lets go\n"
     ]
    }
   ],
   "source": [
    "truck.tow()"
   ]
  },
  {
   "cell_type": "markdown",
   "metadata": {},
   "source": [
    "### Overriding\n",
    "We are tired of our parent imposing its will on us lets print what we want."
   ]
  },
  {
   "cell_type": "code",
   "execution_count": 17,
   "metadata": {
    "collapsed": true
   },
   "outputs": [],
   "source": [
    "class Truck(Automobile):\n",
    "    \n",
    "    def show_make_and_model(self):\n",
    "        print(\"EXTREME!!! We are a {} {}\".format(self.make, self.model))\n",
    "    \n",
    "    def tow(self):\n",
    "        print(\"Hook up and lets go\")"
   ]
  },
  {
   "cell_type": "code",
   "execution_count": 18,
   "metadata": {
    "collapsed": true
   },
   "outputs": [],
   "source": [
    "truck = Truck(\"Toyota\", \"Titan\")"
   ]
  },
  {
   "cell_type": "code",
   "execution_count": 19,
   "metadata": {
    "collapsed": false
   },
   "outputs": [
    {
     "name": "stdout",
     "output_type": "stream",
     "text": [
      "EXTREME!!! We are a Toyota Titan\n"
     ]
    }
   ],
   "source": [
    "truck.show_make_and_model()"
   ]
  },
  {
   "cell_type": "markdown",
   "metadata": {},
   "source": [
    "The show_make_and_model is overridden by our truck subclass"
   ]
  },
  {
   "cell_type": "code",
   "execution_count": null,
   "metadata": {
    "collapsed": true
   },
   "outputs": [],
   "source": [
    "print(\"E\"+truck.make + )"
   ]
  }
 ],
 "metadata": {
  "kernelspec": {
   "display_name": "Python 3",
   "language": "python",
   "name": "python3"
  },
  "language_info": {
   "codemirror_mode": {
    "name": "ipython",
    "version": 3
   },
   "file_extension": ".py",
   "mimetype": "text/x-python",
   "name": "python",
   "nbconvert_exporter": "python",
   "pygments_lexer": "ipython3",
   "version": "3.4.3"
  }
 },
 "nbformat": 4,
 "nbformat_minor": 0
}
